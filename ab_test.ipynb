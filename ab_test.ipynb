{
 "cells": [
  {
   "cell_type": "markdown",
   "id": "a19bfda5",
   "metadata": {},
   "source": [
    "You work for an early-stage startup in Germany. Your team has been working on a redesign of the landing page. The team believes a new design will increase the number of people who click through and join your site. They have been testing the changes for a few weeks, and now they want to measure the impact of the change and need you to determine if the increase can be due to random chance or if it is statistically significant."
   ]
  },
  {
   "cell_type": "markdown",
   "id": "2cf8b66c",
   "metadata": {},
   "source": [
    "## 💪 Challenge\n",
    "Complete the following tasks:\n",
    "\n",
    "1. Analyze the conversion rates for each of the four groups: the new/old design of the landing page and the new/old pictures.\n",
    "2. Can the increases observed be explained by randomness? (Hint: Think A/B test)\n",
    "3. Which version of the website should they use?"
   ]
  },
  {
   "cell_type": "markdown",
   "id": "47c3f496",
   "metadata": {},
   "source": [
    "### Evaluation Metric\n",
    "\n",
    "** Before evaluation of test and control groups, the evaluation metric should be clearly defined. Here the metric is Conversion Rate. We define it with below formula\n",
    "\n",
    "### $ Conversion\\hspace{0.15cm}Rate = \\frac{num\\hspace{0.15cm}converted}{total\\hspace{0.15cm}observations} $"
   ]
  },
  {
   "cell_type": "code",
   "execution_count": 1,
   "id": "5cd5e458",
   "metadata": {},
   "outputs": [],
   "source": [
    "#Import necessary modules\n",
    "import numpy as np\n",
    "import pandas as pd\n",
    "from scipy import stats"
   ]
  },
  {
   "cell_type": "code",
   "execution_count": 2,
   "id": "a588ad60",
   "metadata": {},
   "outputs": [
    {
     "data": {
      "text/html": [
       "<div>\n",
       "<style scoped>\n",
       "    .dataframe tbody tr th:only-of-type {\n",
       "        vertical-align: middle;\n",
       "    }\n",
       "\n",
       "    .dataframe tbody tr th {\n",
       "        vertical-align: top;\n",
       "    }\n",
       "\n",
       "    .dataframe thead th {\n",
       "        text-align: right;\n",
       "    }\n",
       "</style>\n",
       "<table border=\"1\" class=\"dataframe\">\n",
       "  <thead>\n",
       "    <tr style=\"text-align: right;\">\n",
       "      <th></th>\n",
       "      <th>treatment</th>\n",
       "      <th>new_images</th>\n",
       "      <th>converted</th>\n",
       "    </tr>\n",
       "  </thead>\n",
       "  <tbody>\n",
       "    <tr>\n",
       "      <th>0</th>\n",
       "      <td>yes</td>\n",
       "      <td>yes</td>\n",
       "      <td>0</td>\n",
       "    </tr>\n",
       "    <tr>\n",
       "      <th>1</th>\n",
       "      <td>yes</td>\n",
       "      <td>yes</td>\n",
       "      <td>0</td>\n",
       "    </tr>\n",
       "    <tr>\n",
       "      <th>2</th>\n",
       "      <td>yes</td>\n",
       "      <td>yes</td>\n",
       "      <td>0</td>\n",
       "    </tr>\n",
       "    <tr>\n",
       "      <th>3</th>\n",
       "      <td>yes</td>\n",
       "      <td>no</td>\n",
       "      <td>0</td>\n",
       "    </tr>\n",
       "    <tr>\n",
       "      <th>4</th>\n",
       "      <td>no</td>\n",
       "      <td>yes</td>\n",
       "      <td>0</td>\n",
       "    </tr>\n",
       "  </tbody>\n",
       "</table>\n",
       "</div>"
      ],
      "text/plain": [
       "  treatment new_images  converted\n",
       "0       yes        yes          0\n",
       "1       yes        yes          0\n",
       "2       yes        yes          0\n",
       "3       yes         no          0\n",
       "4        no        yes          0"
      ]
     },
     "execution_count": 2,
     "metadata": {},
     "output_type": "execute_result"
    }
   ],
   "source": [
    "#Read the data and display the first 5 rows\n",
    "df = pd.read_csv('redesign.csv')\n",
    "df.head()"
   ]
  },
  {
   "cell_type": "code",
   "execution_count": 3,
   "id": "77c94753",
   "metadata": {},
   "outputs": [
    {
     "name": "stdout",
     "output_type": "stream",
     "text": [
      "<class 'pandas.core.frame.DataFrame'>\n",
      "RangeIndex: 40484 entries, 0 to 40483\n",
      "Data columns (total 3 columns):\n",
      " #   Column      Non-Null Count  Dtype \n",
      "---  ------      --------------  ----- \n",
      " 0   treatment   40484 non-null  object\n",
      " 1   new_images  40484 non-null  object\n",
      " 2   converted   40484 non-null  int64 \n",
      "dtypes: int64(1), object(2)\n",
      "memory usage: 949.0+ KB\n"
     ]
    }
   ],
   "source": [
    "df.info()"
   ]
  },
  {
   "cell_type": "markdown",
   "id": "697d2214",
   "metadata": {},
   "source": [
    "There are no null-missing values and a total of 40K observations. Remembering the column descriptions:\n",
    "- \"treatment\" - \"yes\" if the user saw the new version of the landing page, no otherwise.\n",
    "- \"new_images\" - \"yes\" if the page used a new set of images, no otherwise.\n",
    "- \"converted\" - 1 if the user joined the site, 0 otherwise.\n",
    "\n",
    "Now lets create a seperate column for all options"
   ]
  },
  {
   "cell_type": "code",
   "execution_count": 4,
   "id": "2bf58cb0",
   "metadata": {},
   "outputs": [],
   "source": [
    "#Control group who saw the old version of landing page without the new set of images\n",
    "df['control'] = (df['treatment']=='no') & (df['new_images'] == 'no')\n",
    "#Users who saw the old version of landing page and the new set of images\n",
    "df['image_only'] = (df['treatment']=='no') & (df['new_images'] == 'yes')\n",
    "#Users who saw the new version of landing page but did not see the new set of images\n",
    "df['land_page_only'] = (df['treatment']=='yes') & (df['new_images'] == 'no')\n",
    "#Users who saw the new version of landing page and the new set of images\n",
    "df['both'] = (df['treatment']=='yes') & (df['new_images'] == 'yes')"
   ]
  },
  {
   "cell_type": "code",
   "execution_count": 5,
   "id": "c26e7123",
   "metadata": {},
   "outputs": [
    {
     "data": {
      "text/html": [
       "<div>\n",
       "<style scoped>\n",
       "    .dataframe tbody tr th:only-of-type {\n",
       "        vertical-align: middle;\n",
       "    }\n",
       "\n",
       "    .dataframe tbody tr th {\n",
       "        vertical-align: top;\n",
       "    }\n",
       "\n",
       "    .dataframe thead th {\n",
       "        text-align: right;\n",
       "    }\n",
       "</style>\n",
       "<table border=\"1\" class=\"dataframe\">\n",
       "  <thead>\n",
       "    <tr style=\"text-align: right;\">\n",
       "      <th></th>\n",
       "      <th>treatment</th>\n",
       "      <th>new_images</th>\n",
       "      <th>converted</th>\n",
       "      <th>control</th>\n",
       "      <th>image_only</th>\n",
       "      <th>land_page_only</th>\n",
       "      <th>both</th>\n",
       "    </tr>\n",
       "  </thead>\n",
       "  <tbody>\n",
       "    <tr>\n",
       "      <th>0</th>\n",
       "      <td>yes</td>\n",
       "      <td>yes</td>\n",
       "      <td>0</td>\n",
       "      <td>False</td>\n",
       "      <td>False</td>\n",
       "      <td>False</td>\n",
       "      <td>True</td>\n",
       "    </tr>\n",
       "    <tr>\n",
       "      <th>1</th>\n",
       "      <td>yes</td>\n",
       "      <td>yes</td>\n",
       "      <td>0</td>\n",
       "      <td>False</td>\n",
       "      <td>False</td>\n",
       "      <td>False</td>\n",
       "      <td>True</td>\n",
       "    </tr>\n",
       "    <tr>\n",
       "      <th>2</th>\n",
       "      <td>yes</td>\n",
       "      <td>yes</td>\n",
       "      <td>0</td>\n",
       "      <td>False</td>\n",
       "      <td>False</td>\n",
       "      <td>False</td>\n",
       "      <td>True</td>\n",
       "    </tr>\n",
       "    <tr>\n",
       "      <th>3</th>\n",
       "      <td>yes</td>\n",
       "      <td>no</td>\n",
       "      <td>0</td>\n",
       "      <td>False</td>\n",
       "      <td>False</td>\n",
       "      <td>True</td>\n",
       "      <td>False</td>\n",
       "    </tr>\n",
       "    <tr>\n",
       "      <th>4</th>\n",
       "      <td>no</td>\n",
       "      <td>yes</td>\n",
       "      <td>0</td>\n",
       "      <td>False</td>\n",
       "      <td>True</td>\n",
       "      <td>False</td>\n",
       "      <td>False</td>\n",
       "    </tr>\n",
       "  </tbody>\n",
       "</table>\n",
       "</div>"
      ],
      "text/plain": [
       "  treatment new_images  converted  control  image_only  land_page_only   both\n",
       "0       yes        yes          0    False       False           False   True\n",
       "1       yes        yes          0    False       False           False   True\n",
       "2       yes        yes          0    False       False           False   True\n",
       "3       yes         no          0    False       False            True  False\n",
       "4        no        yes          0    False        True           False  False"
      ]
     },
     "execution_count": 5,
     "metadata": {},
     "output_type": "execute_result"
    }
   ],
   "source": [
    "df.head()"
   ]
  },
  {
   "cell_type": "code",
   "execution_count": 6,
   "id": "15cdd376",
   "metadata": {},
   "outputs": [
    {
     "data": {
      "text/html": [
       "<div>\n",
       "<style scoped>\n",
       "    .dataframe tbody tr th:only-of-type {\n",
       "        vertical-align: middle;\n",
       "    }\n",
       "\n",
       "    .dataframe tbody tr th {\n",
       "        vertical-align: top;\n",
       "    }\n",
       "\n",
       "    .dataframe thead th {\n",
       "        text-align: right;\n",
       "    }\n",
       "</style>\n",
       "<table border=\"1\" class=\"dataframe\">\n",
       "  <thead>\n",
       "    <tr style=\"text-align: right;\">\n",
       "      <th></th>\n",
       "      <th>control</th>\n",
       "      <th>image_only</th>\n",
       "      <th>land_page_only</th>\n",
       "      <th>both</th>\n",
       "    </tr>\n",
       "    <tr>\n",
       "      <th>converted</th>\n",
       "      <th></th>\n",
       "      <th></th>\n",
       "      <th></th>\n",
       "      <th></th>\n",
       "    </tr>\n",
       "  </thead>\n",
       "  <tbody>\n",
       "    <tr>\n",
       "      <th>0</th>\n",
       "      <td>9037</td>\n",
       "      <td>8982</td>\n",
       "      <td>8906</td>\n",
       "      <td>8970</td>\n",
       "    </tr>\n",
       "    <tr>\n",
       "      <th>1</th>\n",
       "      <td>1084</td>\n",
       "      <td>1139</td>\n",
       "      <td>1215</td>\n",
       "      <td>1151</td>\n",
       "    </tr>\n",
       "  </tbody>\n",
       "</table>\n",
       "</div>"
      ],
      "text/plain": [
       "           control  image_only  land_page_only  both\n",
       "converted                                           \n",
       "0             9037        8982            8906  8970\n",
       "1             1084        1139            1215  1151"
      ]
     },
     "execution_count": 6,
     "metadata": {},
     "output_type": "execute_result"
    }
   ],
   "source": [
    "#Group the images by converted value and apply sum to get the corresponding conversion of True Values\n",
    "#Store the variables in a temporary Pandas Dataframe\n",
    "temp = df.groupby('converted').apply(np.sum).iloc[:,-4:]\n",
    "temp"
   ]
  },
  {
   "cell_type": "code",
   "execution_count": 7,
   "id": "19873373",
   "metadata": {},
   "outputs": [],
   "source": [
    "# Percentage method to get a percentage value of Pandas Series\n",
    "def pct(series):\n",
    "    return series/series.sum()"
   ]
  },
  {
   "cell_type": "code",
   "execution_count": 8,
   "id": "baa29d2e",
   "metadata": {},
   "outputs": [
    {
     "data": {
      "text/html": [
       "<div>\n",
       "<style scoped>\n",
       "    .dataframe tbody tr th:only-of-type {\n",
       "        vertical-align: middle;\n",
       "    }\n",
       "\n",
       "    .dataframe tbody tr th {\n",
       "        vertical-align: top;\n",
       "    }\n",
       "\n",
       "    .dataframe thead th {\n",
       "        text-align: right;\n",
       "    }\n",
       "</style>\n",
       "<table border=\"1\" class=\"dataframe\">\n",
       "  <thead>\n",
       "    <tr style=\"text-align: right;\">\n",
       "      <th></th>\n",
       "      <th>converted</th>\n",
       "      <th>total</th>\n",
       "      <th>convert_pct</th>\n",
       "    </tr>\n",
       "  </thead>\n",
       "  <tbody>\n",
       "    <tr>\n",
       "      <th>control</th>\n",
       "      <td>1084.0</td>\n",
       "      <td>10121.0</td>\n",
       "      <td>0.107104</td>\n",
       "    </tr>\n",
       "    <tr>\n",
       "      <th>image_only</th>\n",
       "      <td>1139.0</td>\n",
       "      <td>10121.0</td>\n",
       "      <td>0.112538</td>\n",
       "    </tr>\n",
       "    <tr>\n",
       "      <th>land_page_only</th>\n",
       "      <td>1215.0</td>\n",
       "      <td>10121.0</td>\n",
       "      <td>0.120047</td>\n",
       "    </tr>\n",
       "    <tr>\n",
       "      <th>both</th>\n",
       "      <td>1151.0</td>\n",
       "      <td>10121.0</td>\n",
       "      <td>0.113724</td>\n",
       "    </tr>\n",
       "  </tbody>\n",
       "</table>\n",
       "</div>"
      ],
      "text/plain": [
       "                converted    total  convert_pct\n",
       "control            1084.0  10121.0     0.107104\n",
       "image_only         1139.0  10121.0     0.112538\n",
       "land_page_only     1215.0  10121.0     0.120047\n",
       "both               1151.0  10121.0     0.113724"
      ]
     },
     "execution_count": 8,
     "metadata": {},
     "output_type": "execute_result"
    }
   ],
   "source": [
    "#Apply percentage and sum to temp dataframe and transpose it to get the control group in index\n",
    "conv = pd.DataFrame([temp.iloc[1], temp.apply(sum),temp.apply(pct).iloc[1]], index=['converted', 'total','convert_pct']).T\n",
    "conv"
   ]
  },
  {
   "cell_type": "markdown",
   "id": "31b39c0c",
   "metadata": {},
   "source": [
    "### Comments on conversion counts\n",
    "\n",
    "* The total number of samples in all groups are equal (10121)\n",
    "\n",
    "* Number&percentage of users who joined seems in higher than control group for all test groups but we need to further analyze whether this increase indicates a statistically significant change or can be explained by random chance."
   ]
  },
  {
   "cell_type": "markdown",
   "id": "53fa70ce",
   "metadata": {},
   "source": [
    "## Assumptions of Binomial Distribution\n",
    "\n",
    "* 2 types of outcome (There are 2 outcomes only join the site or not)\n",
    "* Events are independent, one conversion does not affect (a user who joined the website does not increase or decrease the probability of another users decision)\n",
    "* The probability stays same for all observations in a test (The users who join the test are randomly chosen and there is no significant difference in user groups) \n",
    "\n",
    "### Rule for using normal distribution\n",
    "\n",
    "$ \\hat{p}\\quad=\\quad num\\hspace{0.15cm}converted\\quad/\\quad num\\hspace{0.15cm}total\\hspace{0.15cm}samples$\n",
    "\n",
    "$ Num\\hspace{0.15cm}samples*\\hat{p}>= 5 $\n",
    "\n",
    "$ Num\\hspace{0.15cm}samples*(1 - \\hat{p}) >= 5 $\n",
    "  "
   ]
  },
  {
   "cell_type": "code",
   "execution_count": 33,
   "id": "31001b99",
   "metadata": {},
   "outputs": [
    {
     "data": {
      "text/plain": [
       "(True, True)"
      ]
     },
     "execution_count": 33,
     "metadata": {},
     "output_type": "execute_result"
    }
   ],
   "source": [
    "# probability = converted/total in control samples\n",
    "p_hat = conv.loc['control', 'convert_pct']\n",
    "total = conv.loc['control', 'total']\n",
    "total*p_hat > 5, total*(1-p_hat) > 5"
   ]
  },
  {
   "cell_type": "markdown",
   "id": "bd7430c0",
   "metadata": {},
   "source": [
    "Since we have enough samples we can use normal distribution can be used as an approximation to binomial distribution"
   ]
  },
  {
   "cell_type": "markdown",
   "id": "454e7396",
   "metadata": {},
   "source": [
    "## Hypothesis Testing\n",
    "\n",
    "We want to see the effect of new layout design and new image set on conversion rate and we are concerned with both positive & negative change. Therefore we should set our hypothesis for a 2-tailed test. \n",
    "\n",
    "**Null Hypothesis** = The conversion rate is not different in control group and test group\n",
    "\n",
    "**Alternate Hypothesis** = Conversion rate of test group is different than conversion rate of control group\n",
    "\n",
    "### Some formulas for test\n",
    "\n",
    "**Pooled Probability Formula** - Pooled probability of control and test groups\n",
    "\n",
    "$ \\normalsize{\\hat{p} = \\frac{ConversionControlGroup + ConversionTestGroup}{NumSamplesControl+NumSamplesTest}}  $ \n",
    "\n",
    "**Standart Error** - Standart Error expected when using sample conversion as conversion of population\n",
    "\n",
    "$ \\normalsize{SE = \\sqrt{\\hat{p}*(1-\\hat{p})*(\\frac{1}{NumSamplesControl}+\\frac{1}{NumSamplesTest})}} $ \n",
    "\n",
    "**Conversion Difference** - Difference of conversion rates between test-control groups\n",
    "\n",
    "$ \\normalsize{\\hat{d} =  \\hat{p_{test}} * \\hat{p_{control}}} $\n",
    "\n",
    "\n",
    "**Margin of error** - Standard error multiplied by critial value (z-score) that determines the margin of error accepted for Ho \n",
    "\n",
    "$ \\normalsize{m = z * StandardError} $\n",
    "\n",
    "\n",
    "**Test Statistic** - Standardized value calculated from test that is used to determine the significant difference btw samples\n",
    "\n",
    "$ \\normalsize{TestStatistic = \\frac{(p1-p2)}{StandardError}} $\n",
    "\n",
    "\n",
    "**P-Value** - Probability of null hypothesis being true, calculated from test-statistic.\n",
    "\n",
    "$ \\normalsize{p-value = 2 * (1 - cdf(|TestStatistic|)) }$"
   ]
  },
  {
   "cell_type": "markdown",
   "id": "0033e0f6",
   "metadata": {},
   "source": [
    "## Selecting confidence level to identify Z-Score\n",
    "\n",
    "Z value represents how many standart deviations away a certain value is from sample mean.\n",
    "Confidence Level is the total area under normal distribution curve where values are between upper and lower Z scores"
   ]
  },
  {
   "cell_type": "code",
   "execution_count": 34,
   "id": "77a2fcf3",
   "metadata": {},
   "outputs": [
    {
     "name": "stdout",
     "output_type": "stream",
     "text": [
      "If a confidence level of %95 is expected on a 2 tailed test;\n",
      "Z-Score of -1.96 and 1.96 must be used for confidence interval calculation\n"
     ]
    }
   ],
   "source": [
    "#Scipy percetage point function can be used for z-score calculation\n",
    "#Z scores for confidence level (ex. %95) define the upper-lower boundries\n",
    "confidence_level = 0.95\n",
    "z_score_lower = stats.norm.ppf((1-confidence_level)/2).round(2)\n",
    "z_score_upper = stats.norm.ppf(confidence_level+((1-confidence_level)/2)).round(2)\n",
    "print(f'If a confidence level of %95 is expected on a 2 tailed test;\\nZ-Score of {z_score_lower} and {z_score_upper} \\\n",
    "must be used for confidence interval calculation')"
   ]
  },
  {
   "cell_type": "code",
   "execution_count": 35,
   "id": "5447f6ed",
   "metadata": {},
   "outputs": [],
   "source": [
    "def check_significance(p1, n1, p2, n2=None, confidence_level=0.95):\n",
    "    '''Method to apply 2 tailed test and check if there is significant change in conversion'''\n",
    "    ##Calculate Z Scores\n",
    "    z_score_lower = stats.norm.ppf((1-confidence_level)/2)\n",
    "    z_score_upper = stats.norm.ppf(confidence_level+(1-confidence_level)/2)\n",
    "    \n",
    "    # If control sample size not given, calculate for equal sample sizes\n",
    "    if n2 is None:\n",
    "        n2 = n1\n",
    "    \n",
    "    #Calculate the Pooled Probability\n",
    "    p_hat = (p1*n1 + p2*n2) / (n1+n2)\n",
    "    \n",
    "    #Calculate Standard Error\n",
    "    SE = np.sqrt(p_hat * (1-p_hat) * ((1/n1)+(1/n2)))\n",
    "    \n",
    "    #Calculate margin of error and multiply with samples to get confidence interval for conversion rates\n",
    "    margin_of_error_1 = z_score_upper*SE\n",
    "    margin_of_error_2 = z_score_lower*SE\n",
    "    upper = n2*(p1+margin_of_error_1)\n",
    "    lower = n2*(p1+margin_of_error_2)\n",
    "    \n",
    "    #Calculate Test Statistic\n",
    "    test_statistic = (p1-p2) / SE;\n",
    "    \n",
    "    #Calculate P-Value\n",
    "    p_val = (1-stats.norm.cdf(abs(test_statistic)))*2\n",
    "    \n",
    "    #Calculate Conversion for Test Sample\n",
    "    conversion = p2*n2\n",
    "    \n",
    "    #Display ci, conversion, test-statistic and p-val\n",
    "    print(f'Confidence interval is between {lower:.2f} and {upper:.2f}')\n",
    "    print(f'Conversion Value for Test Set is {conversion}'),\n",
    "    print(f'Test Statistic: {test_statistic}, P Value: {p_val}\\n')\n",
    "    \n",
    "    #Return whether the conversion is outside confidence interval of Ho (significant)\n",
    "    return (conversion>upper) or (conversion<lower)"
   ]
  },
  {
   "cell_type": "code",
   "execution_count": 36,
   "id": "597ea055",
   "metadata": {},
   "outputs": [],
   "source": [
    "#Since sample sizes are equal, below formula checks the significance for conversion against control group\n",
    "def temp_test(conversion):\n",
    "    p1 = conv.loc['control', 'convert_pct']\n",
    "    p2 = conversion\n",
    "    n1 = conv.loc['control', 'total']\n",
    "    return check_significance(p1, n1, p2, None, 0.95)"
   ]
  },
  {
   "cell_type": "code",
   "execution_count": 37,
   "id": "c5e37ad0",
   "metadata": {},
   "outputs": [
    {
     "name": "stdout",
     "output_type": "stream",
     "text": [
      "Confidence interval is between 997.77 and 1170.23\n",
      "Conversion Value for Test Set is 1084.0\n",
      "Test Statistic: 0.0, P Value: 1.0\n",
      "\n",
      "Confidence interval is between 996.81 and 1171.19\n",
      "Conversion Value for Test Set is 1139.0\n",
      "Test Statistic: -1.2363867031898539, P Value: 0.2163148562938333\n",
      "\n",
      "Confidence interval is between 995.52 and 1172.48\n",
      "Conversion Value for Test Set is 1215.0\n",
      "Test Statistic: -2.9018903061123846, P Value: 0.0037091839675174043\n",
      "\n",
      "Confidence interval is between 996.61 and 1171.39\n",
      "Conversion Value for Test Set is 1151.0\n",
      "Test Statistic: -1.5025954414248646, P Value: 0.13294339963478086\n",
      "\n"
     ]
    },
    {
     "data": {
      "text/html": [
       "<div>\n",
       "<style scoped>\n",
       "    .dataframe tbody tr th:only-of-type {\n",
       "        vertical-align: middle;\n",
       "    }\n",
       "\n",
       "    .dataframe tbody tr th {\n",
       "        vertical-align: top;\n",
       "    }\n",
       "\n",
       "    .dataframe thead th {\n",
       "        text-align: right;\n",
       "    }\n",
       "</style>\n",
       "<table border=\"1\" class=\"dataframe\">\n",
       "  <thead>\n",
       "    <tr style=\"text-align: right;\">\n",
       "      <th></th>\n",
       "      <th>converted</th>\n",
       "      <th>total</th>\n",
       "      <th>convert_pct</th>\n",
       "      <th>significant_change</th>\n",
       "    </tr>\n",
       "  </thead>\n",
       "  <tbody>\n",
       "    <tr>\n",
       "      <th>control</th>\n",
       "      <td>1084.0</td>\n",
       "      <td>10121.0</td>\n",
       "      <td>0.107104</td>\n",
       "      <td>False</td>\n",
       "    </tr>\n",
       "    <tr>\n",
       "      <th>image_only</th>\n",
       "      <td>1139.0</td>\n",
       "      <td>10121.0</td>\n",
       "      <td>0.112538</td>\n",
       "      <td>False</td>\n",
       "    </tr>\n",
       "    <tr>\n",
       "      <th>land_page_only</th>\n",
       "      <td>1215.0</td>\n",
       "      <td>10121.0</td>\n",
       "      <td>0.120047</td>\n",
       "      <td>True</td>\n",
       "    </tr>\n",
       "    <tr>\n",
       "      <th>both</th>\n",
       "      <td>1151.0</td>\n",
       "      <td>10121.0</td>\n",
       "      <td>0.113724</td>\n",
       "      <td>False</td>\n",
       "    </tr>\n",
       "  </tbody>\n",
       "</table>\n",
       "</div>"
      ],
      "text/plain": [
       "                converted    total  convert_pct  significant_change\n",
       "control            1084.0  10121.0     0.107104               False\n",
       "image_only         1139.0  10121.0     0.112538               False\n",
       "land_page_only     1215.0  10121.0     0.120047                True\n",
       "both               1151.0  10121.0     0.113724               False"
      ]
     },
     "execution_count": 37,
     "metadata": {},
     "output_type": "execute_result"
    }
   ],
   "source": [
    "#Create an additional column to show whether there is a statistically significant chage\n",
    "conv['significant_change'] = conv['convert_pct'].apply(temp_test)\n",
    "conv"
   ]
  },
  {
   "cell_type": "markdown",
   "id": "dd544830",
   "metadata": {},
   "source": [
    "### Comments on table after tests\n",
    "\n",
    "** From above table we can see that there is no significant change related to adding **new image set** to the website with current landing page \n",
    "\n",
    "** There is significant change for users who saw the **new landing page without the new image set**. For this option conversion is higher compared to control samples. In other words, with %95 confidence, the new landing page design has higher conversion.\n"
   ]
  },
  {
   "cell_type": "markdown",
   "id": "74bdb11e",
   "metadata": {},
   "source": [
    "Since using new images on a website with a landing page could also have a different effect, let's take the website with a landing page as our control group and apply test to see if adding image set causes a significant change in conversion."
   ]
  },
  {
   "cell_type": "code",
   "execution_count": 38,
   "id": "c471ff49",
   "metadata": {},
   "outputs": [
    {
     "name": "stdout",
     "output_type": "stream",
     "text": [
      "Confidence interval is between 1125.41 and 1304.59\n",
      "Conversion Value for Test Set is 1151.0\n",
      "Test Statistic: 1.400116394982091, P Value: 0.1614784662559714\n",
      "\n"
     ]
    },
    {
     "data": {
      "text/plain": [
       "False"
      ]
     },
     "execution_count": 38,
     "metadata": {},
     "output_type": "execute_result"
    }
   ],
   "source": [
    "# We take the user who only saw the new landing page as control group, and users who saw the landing page&images as test group\n",
    "p1 = conv.loc['land_page_only', 'convert_pct']\n",
    "p2 = conv.loc['both', 'convert_pct']\n",
    "n1 = conv.loc['land_page_only', 'total']\n",
    "check_significance(p1, n1, p2, None, 0.95)"
   ]
  },
  {
   "cell_type": "code",
   "execution_count": 23,
   "id": "7ab0a46c",
   "metadata": {},
   "outputs": [
    {
     "data": {
      "text/plain": [
       "Ttest_indResult(statistic=1.4001150227427406, pvalue=0.1614942052210431)"
      ]
     },
     "execution_count": 23,
     "metadata": {},
     "output_type": "execute_result"
    }
   ],
   "source": [
    "#Another way to easily apply the two sample test is the ttest_ind method in python scipy stats package\n",
    "#We can submit the test conversion arrays direct as parameter to this method. \n",
    "a = df.loc[df['land_page_only']==True, 'converted']\n",
    "b = df.loc[df['both']==True, 'converted']\n",
    "stats.ttest_ind(a, b)"
   ]
  },
  {
   "cell_type": "markdown",
   "id": "2b422815",
   "metadata": {},
   "source": [
    "Value not outside the confidence interval, we cannot reject the null hypothesis (for alpha=0.05). \n",
    "In other words, with these samples, we cannot statistically prove there is an effect of adding new image set to website with a new landing page."
   ]
  },
  {
   "cell_type": "code",
   "execution_count": null,
   "id": "8091d900",
   "metadata": {},
   "outputs": [],
   "source": []
  },
  {
   "cell_type": "markdown",
   "id": "d675ddd8",
   "metadata": {},
   "source": [
    "### Conclusion\n",
    "\n",
    "After the evaluation of conversion figures in all test groups, we can conclude (with %95 confidence) that the new landing page design has a positive effect on conversion rate, whereas a new image set does not have any statistically significant impact. \n",
    "\n",
    "Decision of action on the other hand can be made according to comparison of increase in conversion rate and costs for launching the new landing page on the website.\n",
    "\n",
    "For the new image set, further tests could be run with more samples, thus decreasing the margin of error and increasing the level of significance. Then looking at the direction and magnitude of change, a decision for the image set can be given. "
   ]
  },
  {
   "cell_type": "code",
   "execution_count": null,
   "id": "88ce11dc",
   "metadata": {},
   "outputs": [],
   "source": []
  },
  {
   "cell_type": "markdown",
   "id": "a5540c7b",
   "metadata": {},
   "source": [
    "### Additional Analysis for Statistical power & Sample Size\n",
    "\n",
    "Statistical Power is the ability of our test to identify the small changes in evaluation metric. If a test has more samples, the  statistical power / sensitivity gets higher, which means our probability of false negative (probability of missing a change) is lower.\n",
    "\n",
    "For sample size study we take the control group and test group of user who saw the new image set"
   ]
  },
  {
   "cell_type": "code",
   "execution_count": 39,
   "id": "e5f5f51e",
   "metadata": {},
   "outputs": [
    {
     "name": "stdout",
     "output_type": "stream",
     "text": [
      "Confidence interval is between 996.81 and 1171.19\n",
      "Conversion Value for Test Set is 1139.0\n",
      "Test Statistic: -1.2363867031898539, P Value: 0.2163148562938333\n",
      "\n"
     ]
    },
    {
     "data": {
      "text/plain": [
       "False"
      ]
     },
     "execution_count": 39,
     "metadata": {},
     "output_type": "execute_result"
    }
   ],
   "source": [
    "p1 = conv.loc['control', 'convert_pct']\n",
    "p2 = conv.loc['image_only', 'convert_pct']\n",
    "n1 = conv.loc['control', 'total']\n",
    "check_significance(p1, n1, p2, None, 0.95)"
   ]
  },
  {
   "cell_type": "code",
   "execution_count": 40,
   "id": "632b2b6f",
   "metadata": {},
   "outputs": [
    {
     "data": {
      "text/plain": [
       "0.050738007380073856"
      ]
     },
     "execution_count": 40,
     "metadata": {},
     "output_type": "execute_result"
    }
   ],
   "source": [
    "pct_change = (conv.loc['image_only', 'convert_pct']-conv.loc['control', 'convert_pct']) / conv.loc['control', 'convert_pct']\n",
    "pct_change"
   ]
  },
  {
   "cell_type": "markdown",
   "id": "9f11cafe",
   "metadata": {},
   "source": [
    "There is %5.07 change between conversion rate control group and new image set group. But this change is statistically not significant considering alpha=0.05 level. Our current sample sizes are 10121 each. \n",
    "\n",
    "Let's calculate the sample sizes that would be required to identify this change. \n"
   ]
  },
  {
   "cell_type": "code",
   "execution_count": 28,
   "id": "ba1b91ac",
   "metadata": {},
   "outputs": [],
   "source": [
    "##These methods are received from Datacamp Customer Analytics and AB Testing Course\n",
    "\n",
    "def get_power(n, p1, p2, cl):\n",
    "    '''Returns the power of our hypothesis test by number of samples,probabilities (conversion_rate) and confidence level'''\n",
    "    alpha = 1 - cl\n",
    "    \n",
    "    qu = stats.norm.ppf(1 - alpha/2)\n",
    "    \n",
    "    diff = abs(p2 - p1)\n",
    "    bp = (p1 + p2) / 2\n",
    "    \n",
    "    v1 = p1 * (1 - p1)\n",
    "    v2 = p2 * (1 - p2)\n",
    "    \n",
    "    bv = bp * (1 - bp)\n",
    "    \n",
    "    power_part_one = stats.norm.cdf((n**0.5 * diff - qu * (2 * bv)**0.5)/ (v1 + v2)**0.5)\n",
    "    power_part_two = 1 - stats.norm.cdf((n**0.5 * diff + qu * (2 * bv)**0.5)/ (v1 + v2)**0.5)\n",
    "    \n",
    "    power = power_part_one + power_part_two\n",
    "    return(power)\n",
    "    \n",
    "    \n",
    "def get_sample_size(power, p1, p2, cl, max_n=1000000):\n",
    "    '''calculates the power for different test size until it reaches the desired power level, and returns the test size'''\n",
    "    n = 1\n",
    "    while n <= max_n:\n",
    "        tmp_power = get_power(n, p1, p2, cl)\n",
    "        if tmp_power >= power:\n",
    "            return n\n",
    "        else:\n",
    "            n = n + 1"
   ]
  },
  {
   "cell_type": "code",
   "execution_count": 29,
   "id": "15076ebb",
   "metadata": {},
   "outputs": [
    {
     "data": {
      "text/plain": [
       "51966"
      ]
     },
     "execution_count": 29,
     "metadata": {},
     "output_type": "execute_result"
    }
   ],
   "source": [
    "#Sample size required for our hypothesis test to reject H0 %80 of the time when H1 is true, considering our test-control conversions\n",
    "power = 0.8\n",
    "size = get_sample_size(0.8, p1, p2, 0.95)\n",
    "size"
   ]
  },
  {
   "cell_type": "markdown",
   "id": "4dec42ee",
   "metadata": {},
   "source": [
    "This means, in order to identify a change of %5.26 in conversion rate %80 of the time, we would need 50K samples in both test groups. \n",
    "Therefore getting more data for testing image set might be a good idea to better analyse its effect.\n",
    "Other ways to increase power could be increasing the confidence level or apply a one tailed test (if we are only concerned with change in one direction)"
   ]
  },
  {
   "cell_type": "markdown",
   "id": "095e7fab",
   "metadata": {},
   "source": [
    "### Online sources\n",
    "\n",
    "* https://campus.datacamp.com/courses/customer-analytics-and-ab-testing-in-python/the-design-and-application-of-ab-testing - AB Testing Course\n",
    "* https://support.minitab.com/en-us/minitab-express/1/ - Formulas for calculation\n",
    "* https://en.wikipedia.org/wiki/Statistical_hypothesis_testing - Hypothesis Testing\n",
    "* https://machinelearningmastery.com/statistical-power-and-power-analysis-in-python - Power Analysis\n",
    "* https://classroom.udacity.com/courses/ud257 - AB Testing Course"
   ]
  },
  {
   "cell_type": "code",
   "execution_count": null,
   "id": "9a4f5e6f",
   "metadata": {},
   "outputs": [],
   "source": []
  }
 ],
 "metadata": {
  "kernelspec": {
   "display_name": "Python 3 (ipykernel)",
   "language": "python",
   "name": "python3"
  },
  "language_info": {
   "codemirror_mode": {
    "name": "ipython",
    "version": 3
   },
   "file_extension": ".py",
   "mimetype": "text/x-python",
   "name": "python",
   "nbconvert_exporter": "python",
   "pygments_lexer": "ipython3",
   "version": "3.9.2"
  }
 },
 "nbformat": 4,
 "nbformat_minor": 5
}
